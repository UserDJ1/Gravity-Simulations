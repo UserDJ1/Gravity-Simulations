{
 "cells": [
  {
   "cell_type": "code",
   "execution_count": 4,
   "metadata": {},
   "outputs": [],
   "source": [
    "import matplotlib as mpl\n",
    "import matplotlib.pyplot as plt\n",
    "import numpy as np\n",
    "import math\n",
    "from matplotlib.animation import FuncAnimation\n",
    "import time\n",
    "import matplotlib.animation as animation\n",
    "import seaborn as sns\n",
    "import pandas as pd\n",
    "from graphics import *\n",
    "import sys\n",
    "import random\n",
    "import math"
   ]
  },
  {
   "cell_type": "code",
   "execution_count": null,
   "metadata": {},
   "outputs": [],
   "source": [
    "def sim(n, )"
   ]
  },
  {
   "cell_type": "code",
   "execution_count": 2,
   "metadata": {},
   "outputs": [],
   "source": [
    "def play():\n",
    "\n",
    "    WindowSize = 800\n",
    "    WindowOffset = 30\n",
    "    MarkerSize = .5\n",
    "    windowWidth = WindowSize + WindowOffset * 2\n",
    "    windowHeight = WindowSize + WindowOffset * 2\n",
    "    windowTitle = \"Gravitons boi\"\n",
    "    win = GraphWin(windowTitle, windowWidth, windowHeight)#create the top left and bottom right points for this rectangle\n",
    "    win.setBackground(\"White\")\n",
    "    topLeftPoint = Point(WindowOffset, WindowOffset)\n",
    "    bottomRightPoint = Point(WindowSize + WindowOffset, WindowSize + WindowOffset)\n",
    "\n",
    "    r = Rectangle(topLeftPoint, bottomRightPoint)    # instantiate a Rectangle object\n",
    "\n",
    "    r.draw(win)         # draw the object to the window\n",
    "\n",
    "    xCoord = ( WindowSize / 2 ) + WindowOffset\n",
    "    yCoord = ( WindowSize / 2 ) + WindowOffset\n",
    "    p = Point(xCoord, yCoord)\n",
    "    \n",
    "    if (max(x) > min(x)):\n",
    "        maxim = max(x)\n",
    "    else:\n",
    "        maxim = min(x)\n",
    "    if (max(y) > maxim):\n",
    "        maxim = max(y)\n",
    "    if (min(y) > maxim):\n",
    "        maxim = min(y)\n",
    "    \n",
    "    \n",
    "    i = 0\n",
    "\n",
    "    while  win.checkKey() == \"\":\n",
    "        \n",
    "        if (i>0):\n",
    "            for g in range(len(pt)):\n",
    "                pt[g].undraw()\n",
    "        \n",
    "        #point1 = Point(xpt1, ypt1)\n",
    "        #point2 = Point(xpt2, ypt2)\n",
    "        #c = Line(point1, point2)\n",
    "        #c.setFill(\"blue\")\n",
    "        #c.draw(win)\n",
    "        \n",
    "        #d = c\n",
    "        \n",
    "        #pt = Circle( Point(xpt2, ypt2), 2 )\n",
    "        #pt.setFill(\"yellow\")\n",
    "        #pt.draw(win)\n",
    "        \n",
    "        i = i + inc\n",
    "\n",
    "        key_num = random.SystemRandom(i)\n",
    "        \n",
    "        time.sleep(0.25)\n",
    "        \n",
    "    while  win.checkKey() == \"\":\n",
    "        pass\n",
    "\n",
    "    win.close()         # Close window when done"
   ]
  },
  {
   "cell_type": "code",
   "execution_count": 3,
   "metadata": {},
   "outputs": [],
   "source": [
    "play()"
   ]
  },
  {
   "cell_type": "code",
   "execution_count": null,
   "metadata": {},
   "outputs": [],
   "source": []
  }
 ],
 "metadata": {
  "kernelspec": {
   "display_name": "Python 3 (ipykernel)",
   "language": "python",
   "name": "python3"
  },
  "language_info": {
   "codemirror_mode": {
    "name": "ipython",
    "version": 3
   },
   "file_extension": ".py",
   "mimetype": "text/x-python",
   "name": "python",
   "nbconvert_exporter": "python",
   "pygments_lexer": "ipython3",
   "version": "3.8.8"
  }
 },
 "nbformat": 4,
 "nbformat_minor": 4
}
