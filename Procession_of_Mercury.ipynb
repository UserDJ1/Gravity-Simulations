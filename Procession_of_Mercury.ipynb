{
 "cells": [
  {
   "cell_type": "code",
   "execution_count": 1,
   "metadata": {},
   "outputs": [],
   "source": [
    "import matplotlib as mpl\n",
    "import matplotlib.pyplot as plt\n",
    "import numpy as np\n",
    "import math\n",
    "from matplotlib.animation import FuncAnimation\n",
    "import time\n",
    "import matplotlib.animation as animation\n",
    "import seaborn as sns\n",
    "import pandas as pd\n",
    "from graphics import *\n",
    "import sys\n",
    "import random\n",
    "import math"
   ]
  },
  {
   "cell_type": "markdown",
   "metadata": {},
   "source": [
    "The purpose of this project is to simulate long-term motion of a body around a point mass accounting for relativistic effects. Objects in a stable orbit with a low parigee should appear to have a \"precessing\" orbit around the mass."
   ]
  },
  {
   "cell_type": "code",
   "execution_count": 2,
   "metadata": {},
   "outputs": [],
   "source": [
    "def orbit(m1, x0, y0, vx0, vy0, Δt, tf):\n",
    "    \"\"\"\n",
    "    This function takes in initial parameters for a fixed point mass and a free body in space and calculates the motion\n",
    "    of the free body.\n",
    "    \n",
    "    INPUTS:\n",
    "    m1 : The mass of the fixed point mass. (kg)\n",
    "    x0 : The initial x-position of the free body. (m)\n",
    "    y0 : The initial y-position of the free body. (m)\n",
    "    vx0: The initial x-velocity of the free body. (m/s)\n",
    "    vy0: The initial y-velocity of the free body. (m/s)\n",
    "    Δt : The time increment between data points. (s)\n",
    "    tf : The total amount of time processed. (s)\n",
    "    \n",
    "    OUTPUTS:\n",
    "    x : The data set of x-positions. (m)\n",
    "    y : The data set of y-positions. (m)\n",
    "    Δt: The time step. (s)\n",
    "    t : The data set of times for each data point. (s)\n",
    "    r : The data set of radius (distance between the free body and point mass). (m)\n",
    "    \"\"\"\n",
    "    \n",
    "    G = 6.67408*(10**-11) #Gravitational constant\n",
    "    c = 299792458 #Speed of light\n",
    "    Gm = G*m1\n",
    "    \n",
    "    t = np.arange(0, tf, Δt) #Define points in time\n",
    "    \n",
    "    r = [ math.sqrt(x0**2 + y0**2) ] #Create radius array with initial value\n",
    "    \n",
    "    a = [ -1 * Gm / (r[0]**2) ] #Create acceleration array with initial value\n",
    "    ax = [ (x0/r[0]) * a[0] ] #Create x-acceleration array with initial value\n",
    "    ay = [ (y0/r[0]) * a[0] ] #Create y-acceleration array with initial value\n",
    "    \n",
    "    vx = [ vx0 ] #Create x-velocity array with initial value\n",
    "    vy = [ vy0 ] #Create y-velocity array with initial value\n",
    "    v = [ math.sqrt(vx[0]**2 + vy[0]**2) ] #Create velocity array with initial value\n",
    "    \n",
    "    x = [ x0 ] #Create x-position array with initial value\n",
    "    y = [ y0 ] #Create y-position array with initial value\n",
    "    \n",
    "    time = [  Δt*math.sqrt(1 - 2*Gm/(r[0]*(c**2)))  ] #Create variable time-step array with initial value\n",
    "    \n",
    "    \n",
    "    for i in range(1, len(t)): #Loop from the 2nd time point to the last\n",
    "        \n",
    "        dt = time[-1] #Set this iteration's time step to the previously calculated time step\n",
    "        \n",
    "        k1x = vx[-1]*dt + (1/2)*ax[-1]*(dt**2) #\n",
    "        k1y = vy[-1]*dt + (1/2)*ay[-1]*(dt**2) #Calculate the estimated change in x and y from the startpoint of the interval\n",
    "        \n",
    "        k1vx = ax[-1]*dt #\n",
    "        k1vy = ay[-1]*dt #Calculate the estimated change in x-velocity and y-velocity from the startpoint of the interval\n",
    "        \n",
    "        newx = x[-1] + k1x #\n",
    "        newy = y[-1] + k1y #Calculate the new estimated x and y position from the startpoint estimate changes\n",
    "        \n",
    "        newr = math.sqrt(newx**2 + newy**2) #Calculate the new radius from the startpoint estimate new position\n",
    "        newa = (-1) * Gm / (newr**2) #Calculate the new acceleration from the startpoint estimate new radius\n",
    "        newax = (newx/newr)*newa #\n",
    "        neway = (newy/newr)*newa #Calculate the new x and y components of acceleration from the startpoint estimate new position\n",
    "        \n",
    "        newvx = vx[-1] + k1vx #\n",
    "        newvy = vy[-1] + k1vy #Calculate the new estimated x and y velocity from the startpoint estimate changes\n",
    "        \n",
    "        k2vx = newax*dt #\n",
    "        k2vy = neway*dt #Calculate the new estimated change in x and y velocity from the estimated endpoint of the interval\n",
    "        \n",
    "        k2x = newvx*dt + (1/2)*newax*(dt**2) #Calculate the new estimated change in x and y from the estimated endpoint of the\n",
    "        k2y = newvy*dt + (1/2)*neway*(dt**2) #interval\n",
    "        \n",
    "        \n",
    "        \n",
    "        x.append(   x[-1] + 0.5*(k1x + k2x)   ) #Add the new position values of x and y by averaging the startpoint and\n",
    "        y.append(   y[-1] + 0.5*(k1y + k2y)   ) #endpoint estimates\n",
    "        \n",
    "        vx.append(   vx[-1] + 1*(k1vx)   ) #\n",
    "        vy.append(   vy[-1] + 1*(k1vy)   ) #Repeat for x and y velocity\n",
    "        v.append(   math.sqrt( vx[-1]**2 + vy[-1]**2 )   ) #Calculate new velocity\n",
    "        \n",
    "        r.append(   math.sqrt( (x[-1]**2) + (y[-1]**2) )   ) #Calculate new radius\n",
    "        \n",
    "        a.append(   -1 * Gm / (r[-1]**2)   ) #Calculate new acceleration\n",
    "        ax.append(   (x[-1]/r[-1]) * a[-1]   ) #\n",
    "        ay.append(   (y[-1]/r[-1]) * a[-1]   ) #Calculate new x and y acceleration\n",
    "        \n",
    "        time.append(   Δt*math.sqrt(1 - 2*Gm/(r[-1]*(c**2)))   ) #Estimate new time step\n",
    "        \n",
    "    \n",
    "    \n",
    "    return x,y,Δt,t,r"
   ]
  },
  {
   "cell_type": "code",
   "execution_count": 10,
   "metadata": {},
   "outputs": [],
   "source": [
    "def plot(func, m1, x0, y0, vx0, vy0, Δt, tf):\n",
    "    \"\"\"\n",
    "    This function plots the entirety of the data.\n",
    "    \n",
    "    INPUTS:\n",
    "    func: The function to acquire the data from.\n",
    "    m1  : The mass of the fixed point mass. (kg)\n",
    "    x0  : The initial x-position of the free body. (m)\n",
    "    y0  : The initial y-position of the free body. (m)\n",
    "    vx0 : The initial x-velocity of the free body. (m/s)\n",
    "    vy0 : The initial y-velocity of the free body. (m/s)\n",
    "    Δt  : The time increment between data points. (s)\n",
    "    tf  : The total amount of time processed. (s)\n",
    "    \n",
    "    RETURNS:\n",
    "    None. Plots positional data.\n",
    "    \"\"\"\n",
    "    \n",
    "    x,y,Δt,t,r = func(m1, x0, y0, vx0, vy0, Δt, tf)\n",
    "    \n",
    "    fig7, axe7 = plt.subplots()\n",
    "    axe7.plot(t, r, \"RED\")\n",
    "    axe7.set_title(\"t, r\")\n",
    "    \n",
    "    fig, axe = plt.subplots()\n",
    "    axe.plot(x, y, \"RED\")\n",
    "    axe.set_title(\"x, y\")\n",
    "    plt.axis('equal')\n",
    "    plt.axhline(0, 0, 1)\n",
    "    plt.axvline(0, 0, 1)"
   ]
  },
  {
   "cell_type": "code",
   "execution_count": 4,
   "metadata": {},
   "outputs": [],
   "source": [
    "def play(func, m1, x0, y0, vx0, vy0, Δt, tf, interval, inc):\n",
    "    \"\"\"\n",
    "    This function animates the motion of an object from data sets.\n",
    "    \n",
    "    INPUTS:\n",
    "    func    : The function to acquire the data from.\n",
    "    m1      : The mass of the fixed point mass. (kg)\n",
    "    x0      : The initial x-position of the free body. (m)\n",
    "    y0      : The initial y-position of the free body. (m)\n",
    "    vx0     : The initial x-velocity of the free body. (m/s)\n",
    "    vy0     : The initial y-velocity of the free body. (m/s)\n",
    "    Δt      : The time increment between data points. (s)\n",
    "    tf      : The total amount of time processed. (s)\n",
    "    interval: The amount of time between each frame (redundant if very small). (s)\n",
    "    inc     : The amount of data point skipped each frame. More effective at adjusting the speed of the animation.\n",
    "    \n",
    "    RETURNS:\n",
    "    None. Creates a graphics window animation of motion data.\n",
    "    \"\"\"\n",
    "    \n",
    "    x,y,Δt,t,r = func(m1, x0, y0, vx0, vy0, Δt, tf)\n",
    "\n",
    "    WindowSize = 800\n",
    "    WindowOffset = 30\n",
    "    MarkerSize = .5\n",
    "    windowWidth = WindowSize + WindowOffset * 2\n",
    "    windowHeight = WindowSize + WindowOffset * 2\n",
    "    windowTitle = \"Orbital Trajectory Plot\"\n",
    "    win = GraphWin(windowTitle, windowWidth, windowHeight)#create the top left and bottom right points for this rectangle\n",
    "    win.setBackground(\"White\")\n",
    "    topLeftPoint = Point(WindowOffset, WindowOffset)\n",
    "    bottomRightPoint = Point(WindowSize + WindowOffset, WindowSize + WindowOffset)\n",
    "\n",
    "    r = Rectangle(topLeftPoint, bottomRightPoint)    # instantiate a Rectangle object\n",
    "\n",
    "    r.draw(win)         # draw the object to the window\n",
    "    win.setBackground(\"black\")\n",
    "\n",
    "    xCoord = ( WindowSize / 2 ) + WindowOffset\n",
    "    yCoord = ( WindowSize / 2 ) + WindowOffset\n",
    "    p = Point(xCoord, yCoord)\n",
    "    \n",
    "    \n",
    "    if (max(x) > min(x)):\n",
    "        maxim = max(x)\n",
    "    else:\n",
    "        maxim = min(x)\n",
    "    if (max(y) > maxim):\n",
    "        maxim = max(y)\n",
    "    if (min(y) > maxim):\n",
    "        maxim = min(y)\n",
    "    \n",
    "    \n",
    "    i = 0\n",
    "\n",
    "    while  win.checkKey() == \"\":\n",
    "        \n",
    "        if (i == 0):\n",
    "            sun = Circle( Point((1/2)*WindowSize + WindowOffset, (1/2)*WindowSize + WindowOffset), 2)\n",
    "            sun.setFill(\"red\")\n",
    "            sun.setOutline(\"red\")\n",
    "            sun.draw(win)\n",
    "        \n",
    "        xpt1 = (x[i]*((WindowSize)/2)/maxim) + (1/2)*WindowSize + WindowOffset\n",
    "        ypt1 = (y[i]*((WindowSize)/2)/maxim) + (1/2)*WindowSize + WindowOffset\n",
    "        \n",
    "        xpt2 = (x[i+inc]*((WindowSize)/2)/maxim) + (1/2)*WindowSize + WindowOffset\n",
    "        ypt2 = (y[i+inc]*((WindowSize)/2)/maxim) + (1/2)*WindowSize + WindowOffset\n",
    "        \n",
    "        if (i>0):\n",
    "            pt.undraw()\n",
    "        \n",
    "        point1 = Point(xpt1, ypt1)\n",
    "        point2 = Point(xpt2, ypt2)\n",
    "        c = Line(point1, point2)\n",
    "        c.setFill(\"blue\")\n",
    "        c.draw(win)\n",
    "        \n",
    "        d = c\n",
    "        \n",
    "        pt = Circle( Point(xpt2, ypt2), 2 )\n",
    "        pt.setFill(\"yellow\")\n",
    "        pt.draw(win)\n",
    "        \n",
    "        i = i + inc\n",
    "\n",
    "        key_num = random.SystemRandom(i)\n",
    "        \n",
    "        time.sleep(interval)\n",
    "        \n",
    "    while  win.checkKey() == \"\":\n",
    "        pass\n",
    "\n",
    "    win.close()         # Close window when done"
   ]
  },
  {
   "cell_type": "code",
   "execution_count": 5,
   "metadata": {},
   "outputs": [
    {
     "data": {
      "image/png": "[encoded data removed]",
      "text/plain": [
       "<Figure size 432x288 with 1 Axes>"
      ]
     },
     "metadata": {
      "needs_background": "light"
     },
     "output_type": "display_data"
    },
    {
     "data": {
      "image/png": "[encoded data removed]",
      "text/plain": [
       "<Figure size 432x288 with 1 Axes>"
      ]
     },
     "metadata": {
      "needs_background": "light"
     },
     "output_type": "display_data"
    }
   ],
   "source": [
    "plot(orbit, 1.989*(10**(30)), 1.521*(10**11), 0, 0, 29290, 360, 300*3.16*(10**7)) #Earth (300 years, 360s time step)\n",
    "#Plots the orbit of Earth over 300 years with 360 seconds between each data point. Startpoint is at Earth's apogee."
   ]
  },
  {
   "cell_type": "code",
   "execution_count": 6,
   "metadata": {},
   "outputs": [
    {
     "data": {
      "image/png": "[encoded data removed]",
      "text/plain": [
       "<Figure size 432x288 with 1 Axes>"
      ]
     },
     "metadata": {
      "needs_background": "light"
     },
     "output_type": "display_data"
    },
    {
     "data": {
      "image/png": "[encoded data removed]",
      "text/plain": [
       "<Figure size 432x288 with 1 Axes>"
      ]
     },
     "metadata": {
      "needs_background": "light"
     },
     "output_type": "display_data"
    }
   ],
   "source": [
    "plot(orbit, 1.989*(10**(30)), 5.3802*(10**10), 0, 0, 2.14*(10**4), 250, 150*3.154*(10**7)) #High eccentricity planet (150 years, 250s time step)\n",
    "#Plots the orbit of a body that comes very close to the sun over 150 years with 250 seconds between each data point. \n",
    "#Startpoint is an arbitrary apigee."
   ]
  },
  {
   "cell_type": "code",
   "execution_count": 7,
   "metadata": {
    "scrolled": false
   },
   "outputs": [
    {
     "data": {
      "image/png": "[encoded data removed]",
      "text/plain": [
       "<Figure size 432x288 with 1 Axes>"
      ]
     },
     "metadata": {
      "needs_background": "light"
     },
     "output_type": "display_data"
    },
    {
     "data": {
      "image/png": "[encoded data removed]",
      "text/plain": [
       "<Figure size 432x288 with 1 Axes>"
      ]
     },
     "metadata": {
      "needs_background": "light"
     },
     "output_type": "display_data"
    }
   ],
   "source": [
    "plot(orbit, 1.989*(10**(30)), 6.98*(10**10), 0, 0, 38860, 300, 300*3.154*(10**7)) #Mercury, 300 years (300s time step)\n",
    "#Plots the orbit of Mercury over 300 years with 300 seconds between each data point. This appears to be too short of a time\n",
    "#period to observe much precession.\n",
    "#Startpoint is at Mercury's apogee."
   ]
  },
  {
   "cell_type": "code",
   "execution_count": 8,
   "metadata": {},
   "outputs": [
    {
     "data": {
      "image/png": "[encoded data removed]",
      "text/plain": [
       "<Figure size 432x288 with 1 Axes>"
      ]
     },
     "metadata": {
      "needs_background": "light"
     },
     "output_type": "display_data"
    },
    {
     "data": {
      "image/png": "[encoded data removed]",
      "text/plain": [
       "<Figure size 432x288 with 1 Axes>"
      ]
     },
     "metadata": {
      "needs_background": "light"
     },
     "output_type": "display_data"
    }
   ],
   "source": [
    "plot(orbit, 1.989*(10**(30)), 6.98*(10**10), 0, 0, 38860, 800, 900*3.154*(10**7)) #Mercury, 900 years (800s time step)\n",
    "#Plots the orbit of Mercury over 900 years with 800 seconds between each data point. This also appears to be too short of a\n",
    "#time period to display much precession. This seems to demonstrate that most of Mercury's precession is caused by the\n",
    "#gravitational influence of other planets.\n",
    "#Startpoint is at Mercury's apogee."
   ]
  },
  {
   "cell_type": "code",
   "execution_count": 9,
   "metadata": {},
   "outputs": [],
   "source": [
    "play(orbit, 1.989*(10**(30)), 5.3802*(10**10), 0, 0, 1.4*(10**4), 250, 15*3.154*(10**7), 0.001, 15) #High eccentricity planet (15 years, 250s time step)\n",
    "#This plays an animation of the orbit of a body that comes very close to the sun over 15 years with 250 seconds between\n",
    "#each data point. Startpoint is an arbitrary apogee."
   ]
  },
  {
   "cell_type": "code",
   "execution_count": null,
   "metadata": {},
   "outputs": [],
   "source": []
  }
 ],
 "metadata": {
  "kernelspec": {
   "display_name": "Python 3",
   "language": "python",
   "name": "python3"
  },
  "language_info": {
   "codemirror_mode": {
    "name": "ipython",
    "version": 3
   },
   "file_extension": ".py",
   "mimetype": "text/x-python",
   "name": "python",
   "nbconvert_exporter": "python",
   "pygments_lexer": "ipython3",
   "version": "3.7.6"
  }
 },
 "nbformat": 4,
 "nbformat_minor": 4
}
